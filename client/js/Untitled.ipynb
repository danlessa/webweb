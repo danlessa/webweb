{
 "cells": [
  {
   "cell_type": "code",
   "execution_count": 1,
   "metadata": {},
   "outputs": [],
   "source": [
    "from webweb import Web"
   ]
  },
  {
   "cell_type": "code",
   "execution_count": 2,
   "metadata": {},
   "outputs": [
    {
     "data": {
      "text/html": [
       "\n",
       "        <iframe\n",
       "            width=\"800\"\n",
       "            height=\"800\"\n",
       "            src=\"f64c3622-51f5-4420-902f-b5219dfa15a5-webweb.html\"\n",
       "            frameborder=\"0\"\n",
       "            allowfullscreen\n",
       "        ></iframe>\n",
       "        "
      ],
      "text/plain": [
       "<IPython.lib.display.IFrame at 0x117a68e10>"
      ]
     },
     "execution_count": 2,
     "metadata": {},
     "output_type": "execute_result"
    }
   ],
   "source": [
    "from webweb import Web\n",
    "\n",
    "edges = [\n",
    "    [0, 0, 11975],\n",
    "    [0, 1, 5871],\n",
    "    [0, 2, 8916],\n",
    "    [0, 3, 2868],\n",
    "    [1, 0, 1951],\n",
    "    [1, 1, 10048],\n",
    "    [1, 2, 2060],\n",
    "    [1, 3, 6171],\n",
    "    [2, 0, 8010],\n",
    "    [2, 1, 16145],\n",
    "    [2, 2, 8090],\n",
    "    [2, 3, 8045],\n",
    "    [3, 0, 1013],\n",
    "    [3, 1, 990],\n",
    "    [3, 2, 940],\n",
    "    [3, 3, 6907],\n",
    "]\n",
    "\n",
    "web = Web(adjacency=edges)\n",
    "\n",
    "#web.display.plotType = 'ChordDiagram'\n",
    "\n",
    "# # use the 'wearsGlasses' to compute node sizes\n",
    "# web.display.sizeBy = 'wearsGlasses'\n",
    "\n",
    "web.display.colorBy = 'degree'\n",
    "web.display.attachToElementWithId = 'hihi'\n",
    "web.display.hideMenu = True\n",
    "#web.display.\n",
    "\n",
    "# show the visualization\n",
    "web.show()\n"
   ]
  },
  {
   "cell_type": "code",
   "execution_count": null,
   "metadata": {},
   "outputs": [],
   "source": []
  }
 ],
 "metadata": {
  "kernelspec": {
   "display_name": "Python 3",
   "language": "python",
   "name": "python3"
  },
  "language_info": {
   "codemirror_mode": {
    "name": "ipython",
    "version": 3
   },
   "file_extension": ".py",
   "mimetype": "text/x-python",
   "name": "python",
   "nbconvert_exporter": "python",
   "pygments_lexer": "ipython3",
   "version": "3.7.5"
  }
 },
 "nbformat": 4,
 "nbformat_minor": 2
}
